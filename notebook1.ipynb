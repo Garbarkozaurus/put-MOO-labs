{
 "cells": [
  {
   "cell_type": "markdown",
   "id": "0c83d287",
   "metadata": {},
   "source": [
    "# Multiple-objective portfolio optimization"
   ]
  },
  {
   "cell_type": "markdown",
   "id": "b1461c77",
   "metadata": {},
   "source": [
    "# INTRODUCTION"
   ]
  },
  {
   "cell_type": "markdown",
   "id": "ed746013",
   "metadata": {},
   "source": [
    "-  Your task is to solve a multiple-objective portfolio optimization problem.\n",
    "-  Use the basic Markowitz's model from 1952 (see Lecture 1)\n",
    "-  Solve = construct Pareto front approximations.\n",
    "-  The dataset is the same as for the portfolio game part 1 (bundle1.zip).\n",
    "-  The dataset consists of the historical prices of 20 assets.\n",
    "-  The bundle contains 20 files (*.txt) linked to different assets.\n",
    "-  The name of the file suggests the asset's name.\n",
    "-  The structure of every file is as follows:\n",
    "1.  The first line contains the name of the asset.\n",
    "2. The second line provides the number of data points N.\n",
    "3. The following N lines are data points with the structure: time, price.\n",
    "-  The historical timeline for all assets is time $\\in$ [0,100].\n",
    "-  Future predictions should be calculated for time = 200.\n",
    "-  Goal: \n",
    "-  Load data, make predictions, and build the model. \n",
    "-  Illustrate your predictions (can be done in the jupyter notebook)\n",
    "-  Then, implement the WSM and ECM methods (see the tutorial on quadratic programming provided below). \n",
    "-  Run your implementations for different calculation limits (e.g., the number of weight vectors for WSM). Compare the methods' efficiency in finding unique Pareto optimal solutions. Finally, illustrate generated Pareto fronts."
   ]
  },
  {
   "cell_type": "markdown",
   "id": "a97f2ed7",
   "metadata": {},
   "source": [
    "# Short tutorial on the cvxopt library for quadratic programming"
   ]
  },
  {
   "cell_type": "code",
   "execution_count": 45,
   "id": "2ce0f140",
   "metadata": {},
   "outputs": [],
   "source": [
    "import numpy as np\n",
    "from cvxopt import matrix, solvers"
   ]
  },
  {
   "cell_type": "markdown",
   "id": "b5c7f50c",
   "metadata": {},
   "source": [
    "# QP Optimization Problem"
   ]
  },
  {
   "cell_type": "markdown",
   "id": "6f101f05",
   "metadata": {},
   "source": [
    "### General model:"
   ]
  },
  {
   "cell_type": "markdown",
   "id": "d539390b",
   "metadata": {},
   "source": [
    "$max$ $\\boldsymbol{cx} - \\dfrac{1}{2}\\boldsymbol{x}^T\\boldsymbol{Qx}$ <br>\n",
    "$s.t.$ <br>\n",
    "$\\boldsymbol{Gx} \\leq \\boldsymbol{h}$ <br>\n",
    "$\\boldsymbol{x} \\geq \\boldsymbol{0}$"
   ]
  },
  {
   "cell_type": "markdown",
   "id": "6cfd769b",
   "metadata": {},
   "source": [
    "### But the library uses the following form:"
   ]
  },
  {
   "cell_type": "markdown",
   "id": "74f98165",
   "metadata": {},
   "source": [
    "$min$ $\\boldsymbol{cx} + \\dfrac{1}{2}\\boldsymbol{x}^T\\boldsymbol{Qx}$ <br>\n",
    "$s.t.$ <br>\n",
    "$\\boldsymbol{Gx} \\leq \\boldsymbol{h}$ <br>\n",
    "$\\boldsymbol{Ax} = \\boldsymbol{b}$ <br>"
   ]
  },
  {
   "cell_type": "markdown",
   "id": "1ebb5d77",
   "metadata": {},
   "source": [
    "### Exmple"
   ]
  },
  {
   "cell_type": "markdown",
   "id": "4af73bb6",
   "metadata": {},
   "source": [
    "$min$ $2x^2_1+x_2^2+x_1x_2+x_1+x_2$ <br>\n",
    "$s.t.$ <br>\n",
    "$x_1 \\geq 0$<br>\n",
    "$x_2 \\geq 0$<br>\n",
    "$x_1 + x_2 = 1$<br>"
   ]
  },
  {
   "cell_type": "markdown",
   "id": "9e9eca3b",
   "metadata": {},
   "source": [
    "### Hence:"
   ]
  },
  {
   "cell_type": "code",
   "execution_count": 46,
   "id": "d312e739",
   "metadata": {},
   "outputs": [],
   "source": [
    "Q = matrix([ [4.0, 1.0], [1.0, 2.0] ]) ## [4, 1] is 1st column, not row!"
   ]
  },
  {
   "cell_type": "code",
   "execution_count": 47,
   "id": "51bed5af",
   "metadata": {},
   "outputs": [],
   "source": [
    "c = matrix([1.0, 1.0]) ### (1, 2) = dimensions (1 row and 2 columns)"
   ]
  },
  {
   "cell_type": "code",
   "execution_count": 48,
   "id": "0cdbd334",
   "metadata": {},
   "outputs": [],
   "source": [
    "A = matrix([1.0, 1.0], (1,2)) ### (1, 2) = dimensions (1 row and 2 columns)"
   ]
  },
  {
   "cell_type": "code",
   "execution_count": 49,
   "id": "699075a5",
   "metadata": {},
   "outputs": [],
   "source": [
    "b = matrix(1.0)"
   ]
  },
  {
   "cell_type": "code",
   "execution_count": 50,
   "id": "9a5b19b4",
   "metadata": {},
   "outputs": [],
   "source": [
    "G = matrix([[-1.0,0.0],[0.0,-1.0]]) ### multiplied both sides by -1"
   ]
  },
  {
   "cell_type": "code",
   "execution_count": 51,
   "id": "e50610ff",
   "metadata": {},
   "outputs": [],
   "source": [
    "h = matrix([0.0,0.0]) ### multiplied both sides by -1"
   ]
  },
  {
   "cell_type": "code",
   "execution_count": 52,
   "id": "aa92370e",
   "metadata": {},
   "outputs": [
    {
     "name": "stdout",
     "output_type": "stream",
     "text": [
      "     pcost       dcost       gap    pres   dres\n",
      " 0:  1.8889e+00  7.7778e-01  1e+00  2e-16  2e+00\n",
      " 1:  1.8769e+00  1.8320e+00  4e-02  1e-16  6e-02\n",
      " 2:  1.8750e+00  1.8739e+00  1e-03  2e-16  5e-04\n",
      " 3:  1.8750e+00  1.8750e+00  1e-05  1e-16  5e-06\n",
      " 4:  1.8750e+00  1.8750e+00  1e-07  3e-16  5e-08\n",
      "Optimal solution found.\n"
     ]
    }
   ],
   "source": [
    "solQP=solvers.qp(Q, c, G, h, A, b)"
   ]
  },
  {
   "cell_type": "code",
   "execution_count": 53,
   "id": "8e136a0e",
   "metadata": {},
   "outputs": [
    {
     "name": "stdout",
     "output_type": "stream",
     "text": [
      "dict_keys(['x', 'y', 's', 'z', 'status', 'gap', 'relative gap', 'primal objective', 'dual objective', 'primal infeasibility', 'dual infeasibility', 'primal slack', 'dual slack', 'iterations'])\n"
     ]
    }
   ],
   "source": [
    "print(solQP.keys())"
   ]
  },
  {
   "cell_type": "code",
   "execution_count": 54,
   "id": "1954e8ba",
   "metadata": {},
   "outputs": [
    {
     "name": "stdout",
     "output_type": "stream",
     "text": [
      "[ 2.50e-01]\n",
      "[ 7.50e-01]\n",
      "\n",
      "1.875000000000018\n"
     ]
    }
   ],
   "source": [
    "print(solQP['x'])\n",
    "print(solQP['primal objective'])"
   ]
  },
  {
   "cell_type": "markdown",
   "id": "44dc8c5d",
   "metadata": {},
   "source": [
    "# We can also solve LP problems:"
   ]
  },
  {
   "cell_type": "markdown",
   "id": "fb07630b",
   "metadata": {},
   "source": [
    "$min$ $\\boldsymbol{c}\\boldsymbol{x}$ <br>\n",
    "$s.t.$ <br>\n",
    "$\\boldsymbol{Gx} \\leq \\boldsymbol{h}$ <br>\n",
    "$\\boldsymbol{Ax} = \\boldsymbol{b}$ (optional)"
   ]
  },
  {
   "cell_type": "markdown",
   "id": "cdccac67",
   "metadata": {},
   "source": [
    "### Exmple"
   ]
  },
  {
   "cell_type": "markdown",
   "id": "0e439d1a",
   "metadata": {},
   "source": [
    "$min$ $2x_1+x_2$ <br>\n",
    "$s.t.$ <br>\n",
    "$-x_1 +x_2 \\leq 1$ <br>\n",
    "$x_1 + x_2 \\geq 2$ <br>\n",
    "$x_2 \\geq 0$<br>\n",
    "$x_1 - 2x_2 \\leq 4$"
   ]
  },
  {
   "cell_type": "code",
   "execution_count": 55,
   "id": "cd985a50",
   "metadata": {},
   "outputs": [
    {
     "name": "stdout",
     "output_type": "stream",
     "text": [
      "     pcost       dcost       gap    pres   dres   k/t\n",
      " 0:  2.6471e+00 -7.0588e-01  2e+01  8e-01  2e+00  1e+00\n",
      " 1:  3.0726e+00  2.8437e+00  1e+00  1e-01  2e-01  3e-01\n",
      " 2:  2.4891e+00  2.4808e+00  1e-01  1e-02  2e-02  5e-02\n",
      " 3:  2.4999e+00  2.4998e+00  1e-03  1e-04  2e-04  5e-04\n",
      " 4:  2.5000e+00  2.5000e+00  1e-05  1e-06  2e-06  5e-06\n",
      " 5:  2.5000e+00  2.5000e+00  1e-07  1e-08  2e-08  5e-08\n",
      "Optimal solution found.\n"
     ]
    }
   ],
   "source": [
    "G = matrix([ [-1.0, -1.0, 0.0, 1.0], [1.0, -1.0, -1.0, -2.0] ])\n",
    "h = matrix([ 1.0, -2.0, 0.0, 4.0 ])\n",
    "c = matrix([ 2.0, 1.0 ])\n",
    "solLP = solvers.lp(c,G,h)\n",
    "###!!!! OPTIONALLY A and b can be provided (equality constraints) as in solQP=solvers.qp(Q, c, G, h, A, b)"
   ]
  },
  {
   "cell_type": "code",
   "execution_count": 56,
   "id": "15e6bb0b",
   "metadata": {},
   "outputs": [
    {
     "name": "stdout",
     "output_type": "stream",
     "text": [
      "dict_keys(['x', 'y', 's', 'z', 'status', 'gap', 'relative gap', 'primal objective', 'dual objective', 'primal infeasibility', 'dual infeasibility', 'primal slack', 'dual slack', 'residual as primal infeasibility certificate', 'residual as dual infeasibility certificate', 'iterations'])\n"
     ]
    }
   ],
   "source": [
    "print(solLP.keys())"
   ]
  },
  {
   "cell_type": "code",
   "execution_count": 57,
   "id": "debd4e7c",
   "metadata": {},
   "outputs": [
    {
     "name": "stdout",
     "output_type": "stream",
     "text": [
      "[ 5.00e-01]\n",
      "[ 1.50e+00]\n",
      "\n",
      "2.4999999895543077\n"
     ]
    }
   ],
   "source": [
    "print(solLP['x'])\n",
    "print(solLP['primal objective'])"
   ]
  },
  {
   "cell_type": "markdown",
   "id": "e5fe7410",
   "metadata": {},
   "source": [
    "# Portfolio optimization"
   ]
  },
  {
   "cell_type": "code",
   "execution_count": 58,
   "id": "3363d5e8",
   "metadata": {},
   "outputs": [],
   "source": [
    "### SOLVE HERE\n",
    "import solver_create_front\n",
    "import data_loading\n",
    "import utils"
   ]
  },
  {
   "cell_type": "code",
   "execution_count": 59,
   "id": "6d26dd6f",
   "metadata": {},
   "outputs": [],
   "source": [
    "companies = data_loading.load_all_companies_from_dir(\"./data/Bundle1\")"
   ]
  },
  {
   "cell_type": "code",
   "execution_count": 60,
   "id": "fdef8ab4",
   "metadata": {},
   "outputs": [
    {
     "data": {
      "image/png": "[encoded data removed]",
      "text/plain": [
       "<Figure size 640x480 with 1 Axes>"
      ]
     },
     "metadata": {},
     "output_type": "display_data"
    }
   ],
   "source": [
    "weighted_sum_solutions = solver_create_front.uniformly_search_weight_space(companies, 20, 200)\n",
    "solver_create_front.plot_front(companies, weighted_sum_solutions, title=\"Weighted sum\")"
   ]
  },
  {
   "cell_type": "code",
   "execution_count": 61,
   "id": "ba57b8a3",
   "metadata": {},
   "outputs": [
    {
     "data": {
      "image/png": "[encoded data removed]",
      "text/plain": [
       "<Figure size 640x480 with 1 Axes>"
      ]
     },
     "metadata": {},
     "output_type": "display_data"
    }
   ],
   "source": [
    "epsilon_solutions = solver_create_front.uniformly_search_threshold_space(companies, 20, 200)\n",
    "solver_create_front.plot_front(companies, epsilon_solutions, title=\"Epsilon constrained\")"
   ]
  },
  {
   "cell_type": "code",
   "execution_count": 62,
   "id": "4a90a03d",
   "metadata": {},
   "outputs": [
    {
     "name": "stdout",
     "output_type": "stream",
     "text": [
      "\tExpected return\t  Risk\t\tRatio\n",
      " 0.           -0.144\t     0.0\t-474.672\n",
      " 1.            0.044\t     0.0\t 107.925\n",
      " 2.            0.087\t   0.001\t 129.106\n",
      " 3.            0.131\t   0.001\t 107.121\n",
      " 4.            0.174\t   0.002\t  82.476\n",
      " 5.            0.218\t   0.003\t  63.473\n",
      " 6.            0.261\t   0.006\t  45.544\n",
      " 7.            0.305\t    0.01\t  31.413\n",
      " 8.            0.349\t   0.016\t  22.405\n",
      " 9.            0.392\t   0.023\t  16.743\n",
      "10.            0.436\t   0.033\t  13.085\n",
      "11.            0.479\t   0.045\t  10.606\n",
      "12.            0.523\t   0.059\t   8.847\n",
      "13.            0.567\t   0.075\t    7.55\n",
      "14.             0.61\t   0.093\t   6.562\n",
      "15.            0.654\t   0.113\t   5.787\n",
      "16.            0.697\t   0.135\t   5.154\n",
      "17.            0.741\t    0.16\t   4.624\n",
      "18.            0.784\t   0.188\t   4.178\n",
      "19.            0.828\t   0.218\t   3.799\n",
      "20.            0.872\t   0.251\t   3.476\n"
     ]
    }
   ],
   "source": [
    "print(f\"\\tExpected return\\t  Risk\\t\\tRatio\")\n",
    "for i, solution in enumerate(epsilon_solutions):\n",
    "    expected_return = utils.portfolio_expected_return(companies, solution[1]['x'])\n",
    "    risk = utils.portfolio_risk(companies, solution[1]['x'])\n",
    "    print(f\"{i:2}. {np.round(expected_return, 3):16}\\t{np.round(risk, 3):8}\\t{np.round(expected_return/risk, 3):8}\")"
   ]
  },
  {
   "cell_type": "markdown",
   "id": "9d6e7ec6",
   "metadata": {},
   "source": [
    "Among these, I decided to chose solution 5 for the portfolio game"
   ]
  },
  {
   "cell_type": "code",
   "execution_count": 63,
   "id": "6a06eebf",
   "metadata": {},
   "outputs": [
    {
     "name": "stdout",
     "output_type": "stream",
     "text": [
      "SuperFuture         0.0\n",
      "Apples              0.0\n",
      "WorldNow            0.0\n",
      "Electronics123      0.0\n",
      "Photons             0.0\n",
      "SpaceNow            0.0\n",
      "PearPear            0.36\n",
      "PositiveCorrelation 0.06\n",
      "BetterTechnology    0.0\n",
      "ABCDE               0.0\n",
      "EnviroLike          0.0\n",
      "Moneymakers         0.0\n",
      "Fuel4               0.01\n",
      "MarsProject         0.36\n",
      "CPU-XYZ             0.0\n",
      "RoboticsX           0.19\n",
      "Lasers              0.03\n",
      "WaterForce          0.0\n",
      "SafeAndCare         0.0\n",
      "BetterTomorrow      0.0\n"
     ]
    }
   ],
   "source": [
    "chosen_min_ret, chosen_solution = epsilon_solutions[5]\n",
    "ordered_weights = utils.weights_in_valid_order(companies, chosen_solution['x'])\n",
    "# print(\"Min expected return:\", chosen_min_ret)\n",
    "for company_name, weight in zip(utils.COMPANY_ORDER, ordered_weights):\n",
    "    print(f\"{company_name:19}\", np.round(weight, 2))"
   ]
  },
  {
   "cell_type": "code",
   "execution_count": 64,
   "id": "6cd56b50",
   "metadata": {},
   "outputs": [
    {
     "name": "stdout",
     "output_type": "stream",
     "text": [
      "0.22360999999999998\n",
      "0.21790337174405583\n"
     ]
    }
   ],
   "source": [
    "# Rounding makes a big difference\n",
    "print(0.36*(-0.6277)+0.06*(-0.0304)+0.01*(-0.4638)+0.36*(0.8716)+0.19*(0.7313)+0.03*(0.1107))\n",
    "print(sum([w*ret.expected_return for w,ret in zip(chosen_solution['x'], companies)]))"
   ]
  },
  {
   "cell_type": "code",
   "execution_count": 65,
   "id": "1129e220",
   "metadata": {},
   "outputs": [
    {
     "name": "stdout",
     "output_type": "stream",
     "text": [
      "0.21790337174405583\n",
      "0.003432984979966795\n"
     ]
    }
   ],
   "source": [
    "chosen_exp_ret = utils.portfolio_expected_return(companies, chosen_solution['x'])\n",
    "chosen_risk = utils.portfolio_risk(companies, chosen_solution['x'])\n",
    "print(chosen_exp_ret)\n",
    "print(chosen_risk)"
   ]
  },
  {
   "cell_type": "markdown",
   "id": "bc7222e0",
   "metadata": {},
   "source": [
    "Data for submission:"
   ]
  },
  {
   "cell_type": "code",
   "execution_count": 66,
   "id": "bf3f9eb9",
   "metadata": {},
   "outputs": [
    {
     "name": "stdout",
     "output_type": "stream",
     "text": [
      "0.22 0.0 0.0 0.0 0.0 0.0 0.0 0.0 0.36 0.06 0.0 0.0 0.0 0.0 0.01 0.36 0.0 0.19 0.03 0.0 0.0 0.0 "
     ]
    }
   ],
   "source": [
    "print(np.round(chosen_exp_ret, 2), end=\" \")\n",
    "print(np.round(chosen_risk, 2), end = \" \")\n",
    "for weight in ordered_weights:\n",
    "    print(np.round(weight, 2), end=\" \")"
   ]
  }
 ],
 "metadata": {
  "kernelspec": {
   "display_name": "Python 3 (ipykernel)",
   "language": "python",
   "name": "python3"
  },
  "language_info": {
   "codemirror_mode": {
    "name": "ipython",
    "version": 3
   },
   "file_extension": ".py",
   "mimetype": "text/x-python",
   "name": "python",
   "nbconvert_exporter": "python",
   "pygments_lexer": "ipython3",
   "version": "3.11.6"
  }
 },
 "nbformat": 4,
 "nbformat_minor": 5
}
