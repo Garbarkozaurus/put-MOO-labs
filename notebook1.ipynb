{
 "cells": [
  {
   "cell_type": "markdown",
   "id": "0c83d287",
   "metadata": {},
   "source": [
    "# Multiple-objective portfolio optimization"
   ]
  },
  {
   "cell_type": "markdown",
   "id": "b1461c77",
   "metadata": {},
   "source": [
    "# INTRODUCTION"
   ]
  },
  {
   "cell_type": "markdown",
   "id": "ed746013",
   "metadata": {},
   "source": [
    "-  Your task is to solve a multiple-objective portfolio optimization problem.\n",
    "-  Use the basic Markowitz's model from 1952 (see Lecture 1)\n",
    "-  Solve = construct Pareto front approximations.\n",
    "-  The dataset is the same as for the portfolio game part 1 (bundle1.zip).\n",
    "-  The dataset consists of the historical prices of 20 assets.\n",
    "-  The bundle contains 20 files (*.txt) linked to different assets.\n",
    "-  The name of the file suggests the asset's name.\n",
    "-  The structure of every file is as follows:\n",
    "1.  The first line contains the name of the asset.\n",
    "2. The second line provides the number of data points N.\n",
    "3. The following N lines are data points with the structure: time, price.\n",
    "-  The historical timeline for all assets is time $\\in$ [0,100].\n",
    "-  Future predictions should be calculated for time = 200.\n",
    "-  Goal: \n",
    "-  Load data, make predictions, and build the model. \n",
    "-  Illustrate your predictions (can be done in the jupyter notebook)\n",
    "-  Then, implement the WSM and ECM methods (see the tutorial on quadratic programming provided below). \n",
    "-  Run your implementations for different calculation limits (e.g., the number of weight vectors for WSM). Compare the methods' efficiency in finding unique Pareto optimal solutions. Finally, illustrate generated Pareto fronts."
   ]
  },
  {
   "cell_type": "markdown",
   "id": "a97f2ed7",
   "metadata": {},
   "source": [
    "# Short tutorial on the cvxopt library for quadratic programming"
   ]
  },
  {
   "cell_type": "code",
   "execution_count": 1,
   "id": "2ce0f140",
   "metadata": {},
   "outputs": [],
   "source": [
    "import numpy as np\n",
    "from cvxopt import matrix, solvers"
   ]
  },
  {
   "cell_type": "markdown",
   "id": "b5c7f50c",
   "metadata": {},
   "source": [
    "# QP Optimization Problem"
   ]
  },
  {
   "cell_type": "markdown",
   "id": "6f101f05",
   "metadata": {},
   "source": [
    "### General model:"
   ]
  },
  {
   "cell_type": "markdown",
   "id": "d539390b",
   "metadata": {},
   "source": [
    "$max$ $\\boldsymbol{cx} - \\dfrac{1}{2}\\boldsymbol{x}^T\\boldsymbol{Qx}$ <br>\n",
    "$s.t.$ <br>\n",
    "$\\boldsymbol{Gx} \\leq \\boldsymbol{h}$ <br>\n",
    "$\\boldsymbol{x} \\geq \\boldsymbol{0}$"
   ]
  },
  {
   "cell_type": "markdown",
   "id": "6cfd769b",
   "metadata": {},
   "source": [
    "### But the library uses the following form:"
   ]
  },
  {
   "cell_type": "markdown",
   "id": "74f98165",
   "metadata": {},
   "source": [
    "$min$ $\\boldsymbol{cx} + \\dfrac{1}{2}\\boldsymbol{x}^T\\boldsymbol{Qx}$ <br>\n",
    "$s.t.$ <br>\n",
    "$\\boldsymbol{Gx} \\leq \\boldsymbol{h}$ <br>\n",
    "$\\boldsymbol{Ax} = \\boldsymbol{b}$ <br>"
   ]
  },
  {
   "cell_type": "markdown",
   "id": "1ebb5d77",
   "metadata": {},
   "source": [
    "### Exmple"
   ]
  },
  {
   "cell_type": "markdown",
   "id": "4af73bb6",
   "metadata": {},
   "source": [
    "$min$ $2x^2_1+x_2^2+x_1x_2+x_1+x_2$ <br>\n",
    "$s.t.$ <br>\n",
    "$x_1 \\geq 0$<br>\n",
    "$x_2 \\geq 0$<br>\n",
    "$x_1 + x_2 = 1$<br>"
   ]
  },
  {
   "cell_type": "markdown",
   "id": "9e9eca3b",
   "metadata": {},
   "source": [
    "### Hence:"
   ]
  },
  {
   "cell_type": "code",
   "execution_count": 2,
   "id": "d312e739",
   "metadata": {},
   "outputs": [],
   "source": [
    "Q = matrix([ [4.0, 1.0], [1.0, 2.0] ]) ## [4, 1] is 1st column, not row!"
   ]
  },
  {
   "cell_type": "code",
   "execution_count": 3,
   "id": "51bed5af",
   "metadata": {},
   "outputs": [],
   "source": [
    "c = matrix([1.0, 1.0]) ### (1, 2) = dimensions (1 row and 2 columns)"
   ]
  },
  {
   "cell_type": "code",
   "execution_count": 4,
   "id": "0cdbd334",
   "metadata": {},
   "outputs": [],
   "source": [
    "A = matrix([1.0, 1.0], (1,2)) ### (1, 2) = dimensions (1 row and 2 columns)"
   ]
  },
  {
   "cell_type": "code",
   "execution_count": 5,
   "id": "699075a5",
   "metadata": {},
   "outputs": [],
   "source": [
    "b = matrix(1.0)"
   ]
  },
  {
   "cell_type": "code",
   "execution_count": 6,
   "id": "9a5b19b4",
   "metadata": {},
   "outputs": [],
   "source": [
    "G = matrix([[-1.0,0.0],[0.0,-1.0]]) ### multiplied both sides by -1"
   ]
  },
  {
   "cell_type": "code",
   "execution_count": 7,
   "id": "e50610ff",
   "metadata": {},
   "outputs": [],
   "source": [
    "h = matrix([0.0,0.0]) ### multiplied both sides by -1"
   ]
  },
  {
   "cell_type": "code",
   "execution_count": 8,
   "id": "aa92370e",
   "metadata": {},
   "outputs": [
    {
     "name": "stdout",
     "output_type": "stream",
     "text": [
      "     pcost       dcost       gap    pres   dres\n",
      " 0:  1.8889e+00  7.7778e-01  1e+00  2e-16  2e+00\n",
      " 1:  1.8769e+00  1.8320e+00  4e-02  1e-16  6e-02\n",
      " 2:  1.8750e+00  1.8739e+00  1e-03  2e-16  5e-04\n",
      " 3:  1.8750e+00  1.8750e+00  1e-05  1e-16  5e-06\n",
      " 4:  1.8750e+00  1.8750e+00  1e-07  3e-16  5e-08\n",
      "Optimal solution found.\n"
     ]
    }
   ],
   "source": [
    "solQP=solvers.qp(Q, c, G, h, A, b)"
   ]
  },
  {
   "cell_type": "code",
   "execution_count": 9,
   "id": "8e136a0e",
   "metadata": {},
   "outputs": [
    {
     "name": "stdout",
     "output_type": "stream",
     "text": [
      "dict_keys(['x', 'y', 's', 'z', 'status', 'gap', 'relative gap', 'primal objective', 'dual objective', 'primal infeasibility', 'dual infeasibility', 'primal slack', 'dual slack', 'iterations'])\n"
     ]
    }
   ],
   "source": [
    "print(solQP.keys())"
   ]
  },
  {
   "cell_type": "code",
   "execution_count": 10,
   "id": "1954e8ba",
   "metadata": {},
   "outputs": [
    {
     "name": "stdout",
     "output_type": "stream",
     "text": [
      "[ 2.50e-01]\n",
      "[ 7.50e-01]\n",
      "\n",
      "1.875000000000018\n"
     ]
    }
   ],
   "source": [
    "print(solQP['x'])\n",
    "print(solQP['primal objective'])"
   ]
  },
  {
   "cell_type": "markdown",
   "id": "44dc8c5d",
   "metadata": {},
   "source": [
    "# We can also solve LP problems:"
   ]
  },
  {
   "cell_type": "markdown",
   "id": "fb07630b",
   "metadata": {},
   "source": [
    "$min$ $\\boldsymbol{c}\\boldsymbol{x}$ <br>\n",
    "$s.t.$ <br>\n",
    "$\\boldsymbol{Gx} \\leq \\boldsymbol{h}$ <br>\n",
    "$\\boldsymbol{Ax} = \\boldsymbol{b}$ (optional)"
   ]
  },
  {
   "cell_type": "markdown",
   "id": "cdccac67",
   "metadata": {},
   "source": [
    "### Exmple"
   ]
  },
  {
   "cell_type": "markdown",
   "id": "0e439d1a",
   "metadata": {},
   "source": [
    "$min$ $2x_1+x_2$ <br>\n",
    "$s.t.$ <br>\n",
    "$-x_1 +x_2 \\leq 1$ <br>\n",
    "$x_1 + x_2 \\geq 2$ <br>\n",
    "$x_2 \\geq 0$<br>\n",
    "$x_1 - 2x_2 \\leq 4$"
   ]
  },
  {
   "cell_type": "code",
   "execution_count": 11,
   "id": "cd985a50",
   "metadata": {},
   "outputs": [
    {
     "name": "stdout",
     "output_type": "stream",
     "text": [
      "     pcost       dcost       gap    pres   dres   k/t\n",
      " 0:  2.6471e+00 -7.0588e-01  2e+01  8e-01  2e+00  1e+00\n",
      " 1:  3.0726e+00  2.8437e+00  1e+00  1e-01  2e-01  3e-01\n",
      " 2:  2.4891e+00  2.4808e+00  1e-01  1e-02  2e-02  5e-02\n",
      " 3:  2.4999e+00  2.4998e+00  1e-03  1e-04  2e-04  5e-04\n",
      " 4:  2.5000e+00  2.5000e+00  1e-05  1e-06  2e-06  5e-06\n",
      " 5:  2.5000e+00  2.5000e+00  1e-07  1e-08  2e-08  5e-08\n",
      "Optimal solution found.\n"
     ]
    }
   ],
   "source": [
    "G = matrix([ [-1.0, -1.0, 0.0, 1.0], [1.0, -1.0, -1.0, -2.0] ])\n",
    "h = matrix([ 1.0, -2.0, 0.0, 4.0 ])\n",
    "c = matrix([ 2.0, 1.0 ])\n",
    "solLP = solvers.lp(c,G,h)\n",
    "###!!!! OPTIONALLY A and b can be provided (equality constraints) as in solQP=solvers.qp(Q, c, G, h, A, b)"
   ]
  },
  {
   "cell_type": "code",
   "execution_count": 12,
   "id": "15e6bb0b",
   "metadata": {},
   "outputs": [
    {
     "name": "stdout",
     "output_type": "stream",
     "text": [
      "dict_keys(['x', 'y', 's', 'z', 'status', 'gap', 'relative gap', 'primal objective', 'dual objective', 'primal infeasibility', 'dual infeasibility', 'primal slack', 'dual slack', 'residual as primal infeasibility certificate', 'residual as dual infeasibility certificate', 'iterations'])\n"
     ]
    }
   ],
   "source": [
    "print(solLP.keys())"
   ]
  },
  {
   "cell_type": "code",
   "execution_count": 13,
   "id": "debd4e7c",
   "metadata": {},
   "outputs": [
    {
     "name": "stdout",
     "output_type": "stream",
     "text": [
      "[ 5.00e-01]\n",
      "[ 1.50e+00]\n",
      "\n",
      "2.4999999895543077\n"
     ]
    }
   ],
   "source": [
    "print(solLP['x'])\n",
    "print(solLP['primal objective'])"
   ]
  },
  {
   "cell_type": "markdown",
   "id": "e5fe7410",
   "metadata": {},
   "source": [
    "# Portfolio optimization"
   ]
  },
  {
   "cell_type": "code",
   "execution_count": 14,
   "id": "3363d5e8",
   "metadata": {},
   "outputs": [],
   "source": [
    "### SOLVE HERE\n",
    "import solver_create_front\n",
    "import data_loading\n",
    "import utils\n",
    "\n",
    "WS_FRONT_EXPORT = \"ws_front1.txt\"\n",
    "EC_FRONT_EXPORT = \"ec_front1.txt\""
   ]
  },
  {
   "cell_type": "code",
   "execution_count": 15,
   "id": "6d26dd6f",
   "metadata": {},
   "outputs": [],
   "source": [
    "companies = data_loading.load_all_companies_from_dir(\"./data/Bundle1\")"
   ]
  },
  {
   "cell_type": "code",
   "execution_count": 16,
   "id": "fdef8ab4",
   "metadata": {},
   "outputs": [
    {
     "data": {
      "image/png": "[encoded data removed]",
      "text/plain": [
       "<Figure size 640x480 with 1 Axes>"
      ]
     },
     "metadata": {},
     "output_type": "display_data"
    }
   ],
   "source": [
    "weighted_sum_solutions = solver_create_front.uniformly_search_weight_space(companies, 100, 200)\n",
    "solver_create_front.plot_front(companies, weighted_sum_solutions, title=\"Weighted sum\")"
   ]
  },
  {
   "cell_type": "code",
   "execution_count": 17,
   "id": "ba57b8a3",
   "metadata": {},
   "outputs": [
    {
     "data": {
      "image/png": "[encoded data removed]",
      "text/plain": [
       "<Figure size 640x480 with 1 Axes>"
      ]
     },
     "metadata": {},
     "output_type": "display_data"
    }
   ],
   "source": [
    "epsilon_solutions = solver_create_front.uniformly_search_threshold_space(companies, 100, 200)\n",
    "solver_create_front.plot_front(companies, epsilon_solutions, title=\"Epsilon constrained\")"
   ]
  },
  {
   "cell_type": "code",
   "execution_count": 18,
   "id": "4a90a03d",
   "metadata": {},
   "outputs": [
    {
     "name": "stdout",
     "output_type": "stream",
     "text": [
      "\tExpected return\t  Risk\t\tRatio\t\tNum companies\n",
      " 0.           -0.144\t     0.0\t-474.672\t14\n",
      " 1.           -0.142\t     0.0\t -468.95\t15\n",
      " 2.           -0.134\t     0.0\t-440.892\t14\n",
      " 3.           -0.124\t     0.0\t-406.798\t14\n",
      " 4.           -0.114\t     0.0\t-372.343\t15\n",
      " 5.           -0.103\t     0.0\t-337.698\t15\n",
      " 6.           -0.093\t     0.0\t-302.984\t15\n",
      " 7.           -0.083\t     0.0\t-268.325\t15\n",
      " 8.           -0.073\t     0.0\t -233.84\t15\n",
      " 9.           -0.063\t     0.0\t -199.64\t15\n",
      "10.           -0.053\t     0.0\t-165.825\t15\n",
      "11.           -0.042\t     0.0\t-132.485\t15\n",
      "12.           -0.032\t     0.0\t -99.705\t15\n",
      "13.           -0.022\t     0.0\t -67.561\t15\n",
      "14.           -0.012\t     0.0\t -36.122\t15\n",
      "15.           -0.002\t     0.0\t  -5.444\t16\n",
      "16.            0.008\t     0.0\t  24.403\t15\n",
      "17.            0.018\t     0.0\t   53.28\t14\n",
      "18.            0.029\t     0.0\t  79.195\t14\n",
      "19.            0.039\t     0.0\t 100.087\t14\n",
      "20.            0.049\t     0.0\t 115.147\t13\n",
      "21.            0.059\t     0.0\t 124.597\t13\n",
      "22.            0.069\t   0.001\t 129.271\t13\n",
      "23.            0.079\t   0.001\t  130.19\t14\n",
      "24.             0.09\t   0.001\t 128.523\t12\n",
      "25.              0.1\t   0.001\t 124.814\t10\n",
      "26.             0.11\t   0.001\t 119.618\t10\n",
      "27.             0.12\t   0.001\t 113.688\t10\n",
      "28.             0.13\t   0.001\t 107.456\t9\n",
      "29.             0.14\t   0.001\t 101.213\t9\n",
      "30.            0.151\t   0.002\t  95.191\t9\n",
      "31.            0.161\t   0.002\t  89.512\t9\n",
      "32.            0.171\t   0.002\t  84.225\t8\n",
      "33.            0.181\t   0.002\t  79.217\t6\n",
      "34.            0.191\t   0.003\t  74.466\t6\n",
      "35.            0.201\t   0.003\t  70.028\t6\n",
      "36.            0.211\t   0.003\t  65.916\t6\n",
      "37.            0.222\t   0.004\t  62.129\t6\n",
      "38.            0.232\t   0.004\t  58.153\t5\n",
      "39.            0.242\t   0.004\t  53.799\t5\n",
      "40.            0.252\t   0.005\t  49.419\t6\n",
      "41.            0.262\t   0.006\t  45.247\t6\n",
      "42.            0.272\t   0.007\t  41.402\t6\n",
      "43.            0.283\t   0.007\t  37.914\t6\n",
      "44.            0.293\t   0.008\t  34.783\t5\n",
      "45.            0.303\t   0.009\t  31.985\t5\n",
      "46.            0.313\t   0.011\t  29.452\t4\n",
      "47.            0.323\t   0.012\t  27.164\t4\n",
      "48.            0.333\t   0.013\t  25.109\t4\n",
      "49.            0.343\t   0.015\t  23.267\t4\n",
      "50.            0.354\t   0.016\t  21.616\t4\n",
      "51.            0.364\t   0.018\t  20.136\t4\n",
      "52.            0.374\t    0.02\t  18.808\t4\n",
      "53.            0.384\t   0.022\t  17.613\t4\n",
      "54.            0.394\t   0.024\t  16.536\t4\n",
      "55.            0.404\t   0.026\t  15.562\t4\n",
      "56.            0.415\t   0.028\t   14.68\t4\n",
      "57.            0.425\t   0.031\t  13.878\t4\n",
      "58.            0.435\t   0.033\t  13.148\t4\n",
      "59.            0.445\t   0.036\t  12.481\t4\n",
      "60.            0.455\t   0.038\t   11.87\t4\n",
      "61.            0.465\t   0.041\t  11.308\t4\n",
      "62.            0.476\t   0.044\t  10.792\t4\n",
      "63.            0.486\t   0.047\t  10.315\t4\n",
      "64.            0.496\t    0.05\t   9.875\t4\n",
      "65.            0.506\t   0.053\t   9.467\t4\n",
      "66.            0.516\t   0.057\t   9.087\t4\n",
      "67.            0.526\t    0.06\t   8.734\t4\n",
      "68.            0.536\t   0.064\t   8.405\t4\n",
      "69.            0.547\t   0.067\t   8.098\t4\n",
      "70.            0.557\t   0.071\t    7.81\t4\n",
      "71.            0.567\t   0.075\t   7.541\t4\n",
      "72.            0.577\t   0.079\t   7.288\t4\n",
      "73.            0.587\t   0.083\t    7.05\t4\n",
      "74.            0.597\t   0.088\t   6.826\t4\n",
      "75.            0.608\t   0.092\t   6.614\t4\n",
      "76.            0.618\t   0.096\t   6.414\t4\n",
      "77.            0.628\t   0.101\t   6.226\t4\n",
      "78.            0.638\t   0.106\t   6.047\t3\n",
      "79.            0.648\t    0.11\t   5.876\t3\n",
      "80.            0.658\t   0.115\t   5.714\t3\n",
      "81.            0.668\t    0.12\t   5.559\t3\n",
      "82.            0.679\t   0.125\t   5.411\t2\n",
      "83.            0.689\t   0.131\t   5.268\t2\n",
      "84.            0.699\t   0.136\t   5.132\t2\n",
      "85.            0.709\t   0.142\t   5.001\t2\n",
      "86.            0.719\t   0.148\t   4.875\t2\n",
      "87.            0.729\t   0.153\t   4.754\t2\n",
      "88.             0.74\t   0.159\t   4.638\t2\n",
      "89.             0.75\t   0.166\t   4.527\t2\n",
      "90.             0.76\t   0.172\t    4.42\t2\n",
      "91.             0.77\t   0.178\t   4.317\t2\n",
      "92.             0.78\t   0.185\t   4.218\t2\n",
      "93.             0.79\t   0.192\t   4.122\t2\n",
      "94.            0.801\t   0.199\t   4.031\t2\n",
      "95.            0.811\t   0.206\t   3.942\t2\n",
      "96.            0.821\t   0.213\t   3.857\t2\n",
      "97.            0.831\t    0.22\t   3.775\t2\n",
      "98.            0.841\t   0.228\t   3.696\t2\n",
      "99.            0.851\t   0.235\t    3.62\t2\n",
      "100.            0.872\t   0.251\t   3.476\t1\n"
     ]
    }
   ],
   "source": [
    "print(f\"\\tExpected return\\t  Risk\\t\\tRatio\\t\\tNum companies\")\n",
    "for i, solution in enumerate(epsilon_solutions):\n",
    "    expected_return = utils.portfolio_expected_return(companies, solution[1]['x'])\n",
    "    risk = utils.portfolio_risk(companies, solution[1]['x'])\n",
    "    print(f\"{i:2}. {np.round(expected_return, 3):16}\\t{np.round(risk, 3):8}\\t{np.round(expected_return/risk, 3):8}\\t{np.count_nonzero(np.array(solution[1]['x']) > 1e-5)}\")"
   ]
  },
  {
   "cell_type": "markdown",
   "id": "9d6e7ec6",
   "metadata": {},
   "source": [
    "Among these, I decided to chose solution 37 for the portfolio game"
   ]
  },
  {
   "cell_type": "code",
   "execution_count": 19,
   "id": "6a06eebf",
   "metadata": {},
   "outputs": [
    {
     "name": "stdout",
     "output_type": "stream",
     "text": [
      "SuperFuture         0.0\n",
      "Apples              0.0\n",
      "WorldNow            0.0\n",
      "Electronics123      0.0\n",
      "Photons             0.0\n",
      "SpaceNow            0.0\n",
      "PearPear            0.37\n",
      "PositiveCorrelation 0.06\n",
      "BetterTechnology    0.0\n",
      "ABCDE               0.0\n",
      "EnviroLike          0.0\n",
      "Moneymakers         0.0\n",
      "Fuel4               0.0\n",
      "MarsProject         0.37\n",
      "CPU-XYZ             0.0\n",
      "RoboticsX           0.18\n",
      "Lasers              0.02\n",
      "WaterForce          0.0\n",
      "SafeAndCare         0.0\n",
      "BetterTomorrow      0.0\n"
     ]
    }
   ],
   "source": [
    "chosen_min_ret, chosen_solution = epsilon_solutions[37]\n",
    "ordered_weights = utils.weights_in_valid_order(companies, chosen_solution['x'])\n",
    "# print(\"Min expected return:\", chosen_min_ret)\n",
    "for company_name, weight in zip(utils.COMPANY_ORDER, ordered_weights):\n",
    "    print(f\"{company_name:19}\", np.round(weight, 2))"
   ]
  },
  {
   "cell_type": "code",
   "execution_count": 20,
   "id": "1129e220",
   "metadata": {},
   "outputs": [
    {
     "name": "stdout",
     "output_type": "stream",
     "text": [
      "0.2216070872649438\n",
      "0.0035668990585772885\n"
     ]
    }
   ],
   "source": [
    "chosen_exp_ret = utils.portfolio_expected_return(companies, chosen_solution['x'])\n",
    "chosen_risk = utils.portfolio_risk(companies, chosen_solution['x'])\n",
    "print(chosen_exp_ret)\n",
    "print(chosen_risk)"
   ]
  },
  {
   "cell_type": "markdown",
   "id": "bc7222e0",
   "metadata": {},
   "source": [
    "Data for submission:"
   ]
  },
  {
   "cell_type": "code",
   "execution_count": 21,
   "id": "bf3f9eb9",
   "metadata": {},
   "outputs": [
    {
     "name": "stdout",
     "output_type": "stream",
     "text": [
      "0.2216070872649438 0.0035668990585772885 1.0251652094173745e-08, 3.2298170638724315e-08, 6.505618178746683e-07, 1.8413226578557183e-08, 4.23305172698446e-08, 6.306775209173726e-08, 0.3668022084828672, 0.061618815871245035, 1.3824240077869665e-08, 8.644665649845455e-07, 1.8843236108265335e-09, 2.987919062764484e-08, 0.0004081023422847454, 0.3660731075758385, 1.8732855958022932e-06, 0.18066607274170104, 0.024427478059861403, 5.559817292282156e-07, 3.706977748432357e-08, 2.1611643635980332e-08, "
     ]
    }
   ],
   "source": [
    "print(chosen_exp_ret, end=\" \")\n",
    "print(chosen_risk, end = \" \")\n",
    "for weight in ordered_weights:\n",
    "    print(weight,  end=\", \")"
   ]
  },
  {
   "cell_type": "code",
   "execution_count": 22,
   "id": "62199aab",
   "metadata": {},
   "outputs": [],
   "source": [
    "utils.export_front_to_file(companies, [s[1] for s in weighted_sum_solutions], WS_FRONT_EXPORT)\n",
    "utils.export_front_to_file(companies, [s[1] for s in epsilon_solutions], EC_FRONT_EXPORT)"
   ]
  }
 ],
 "metadata": {
  "kernelspec": {
   "display_name": "Python 3 (ipykernel)",
   "language": "python",
   "name": "python3"
  },
  "language_info": {
   "codemirror_mode": {
    "name": "ipython",
    "version": 3
   },
   "file_extension": ".py",
   "mimetype": "text/x-python",
   "name": "python",
   "nbconvert_exporter": "python",
   "pygments_lexer": "ipython3",
   "version": "3.11.6"
  }
 },
 "nbformat": 4,
 "nbformat_minor": 5
}
